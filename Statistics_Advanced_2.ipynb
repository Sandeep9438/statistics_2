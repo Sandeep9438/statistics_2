{
  "nbformat": 4,
  "nbformat_minor": 0,
  "metadata": {
    "colab": {
      "provenance": []
    },
    "kernelspec": {
      "name": "python3",
      "display_name": "Python 3"
    },
    "language_info": {
      "name": "python"
    }
  },
  "cells": [
    {
      "cell_type": "markdown",
      "source": [
        "**1. What is hypothesis testing in statistics?**\n",
        "\n",
        "  > Hypothesis is a claim or statement or an assumption about a population parameters that can be tested using statistical methods. It is a statistical method used to make decisions or draw conclusions about a population parameter based on data from a sample. It helps us decide whether the evidence in the sample is strong enough to accept or reject a claim about the population.\n",
        "\n",
        ">  Key Terms:\n",
        ">  1. Null hypothesis:\n",
        "      - It is the default assumption.\n",
        "      - example- the average height of a student is 150cm.\n",
        "\n",
        ">  2. Alternative hypothesis:\n",
        "      - It is the claim that you want to test.\n",
        "      - example- the average height of a studnet is not 150 cm.\n",
        "\n",
        ">  3. Level of significance:\n",
        "      - the probability of rejecting null hypothesis when it is actually true.\n",
        "      - its common value is 0.05 or 5%.\n",
        "\n",
        ">  4. Test Statistic:\n",
        "      - a calculated value from the sample that tells us how far the sample   result is from the hypothesized population value.\n",
        "      \n",
        ">  5. P Value:\n",
        "      - probability of getting the observed result if null hypothesis is true.\n",
        "      - if p value < alpha(0.05), then we reject the null hypothesis.\n",
        "\n",
        ">  Steps for hypothesis testing:\n",
        "> - state the hypothesis: null hypothesis, alternate hypothesis\n",
        "> - choose the significance level and select the test statistics\n",
        "> - calculate the test statistics\n",
        "> - find the critical value\n",
        "> - with all of the value, make the decision:\n",
        "    - if p value is < alpha, reject the null hypothesis.\n",
        "    - else, fail to reject the null hypothesis\n",
        "    \n",
        "> - write the conclusion about the problem\n",
        "\n",
        "\n",
        ">   Types of test:\n",
        "> - one-tail: checks if the value is greater or smaller than the claim.\n",
        "> - two-tailed: checks if the value is different\n",
        "\n",
        ">   Example: (theory explanation)\n",
        "> - you made a claim about the population.\n",
        "> - due to time and resource  constraints, you can not go to each person of population to record age.\n",
        "> - take sample, calculate average age of sample and check if the sample average age is close to the claim that you have made about the population.\n",
        "\n",
        ">   Conclusion:\n",
        "> - Hypothesis testing is a statistical process that helps in deciding whether a sample provides enough evidence to support or reject a claim about a population. It reduces uncertainty in decision-making by using probability. By comparing sample data with the assumed population parameter, it ensures that conclusions are based on evidence rather than guesswork"
      ],
      "metadata": {
        "id": "aWFKNblevN_Y"
      }
    },
    {
      "cell_type": "markdown",
      "source": [
        "**2. What is the null hypothesis, and how does it differ from the alternative\n",
        "hypothesis?**\n",
        "\n",
        ">   Hypothesis is a claim or statement or an assumption about a population parameters that can be tested using statistical methods. Hypothesis testing\n",
        "is a procedure to examine whether the data collected from a sample provides enough evidence to support or reject that assumption. To carry out this process, two competing statements are always defined: the null hypothesis\n",
        "and the alternative hypothesis.\n",
        "\n",
        ">   Null Hypothesis:\n",
        "\n",
        "> - it is the default statement which assumes that there is no effect, no difference, or no relationship\n",
        "> - any difference seen in sample data is assumed to be due to chance/random error\n",
        "> - it is the default assumption in hypothesis testing\n",
        "> - mainly the goal is to testing is the null hypothesis is true or not\n",
        "\n",
        "> Alternative Hypothesis:\n",
        "\n",
        "> - we can say it is the opposite of null hypothesis\n",
        "> - it is the statement that contradicts the null hypothesis\n",
        "> - It claims that there is an effect, a difference, or a relationship in the population\n",
        "> - it can be one tail or two tail\n",
        "\n",
        "> Criteria For Null Hypothesis:\n",
        "> - assume the null hypothesis is true at the beginning\n",
        "> - choose a level of significance usually 0.05(alpha)\n",
        "> - calculate the test statistic from the sample data\n",
        "> - find the critical value from statistical tables for the chosen alpha\n",
        "> - Decision rule:\n",
        "    - if the test statistic falls within the acceptance region, do not reject\n",
        "     the null hypothesis\n",
        "    - but if the test statistic falls in the rejection region, reject the\n",
        "     null hypothesis\n",
        "\n",
        "> Conclusion:\n",
        "\n",
        ">  In summary, the null hypothesis is a basic assumption that there is no   difference or effect, while the alternative hypothesis is the researcher\n",
        " claim that a real difference or effect exists. Hypothesis testing is a process of making decisions using sample data to check if we should keep the null hypothesis or reject it. This method makes the testing fair and helps researchers reach reliable conclusions about the population."
      ],
      "metadata": {
        "id": "ikCPUN5MtFxZ"
      }
    },
    {
      "cell_type": "markdown",
      "source": [
        "**3. Explain the significance level in hypothesis testing and its role in deciding the outcome of a test.**\n",
        "\n",
        "> The significance level in hypothesis testing is the probability of making an error when rejecting the null hypothesis even though it is actually true. It is like a risk value that the researcher is willing to accept while making a decision. t is usually written as alpha and common values are 0.05 or 0.01. For example, if we choose a significance level of 0.05, it means we are ready to take a 5% chance of being wrong when rejecting the null hypothesis.\n",
        "\n",
        "> The significance level is important because it sets the rule for decision-making. If the probability value from the test is smaller than the choosen significance level, then we reject the null hypothesis. If it is larger, we do not reject it.\n",
        "\n",
        "> Importance Of Significance Level:\n",
        "\n",
        "> - it helps decide whether to reject or accept the null hypothesis\n",
        "> - it controls the chance of making errrors in decision-making\n",
        "> - it sets a clear cut-off point for testing results\n",
        "> - it makes the testing process fairly\n",
        "> - it ensures that conclusions drawn from data are reliable\n",
        "\n",
        "> Role In Deciding Outcome:\n",
        "\n",
        "> - the significance level set a threshold to judge whether the test result is significant or not.\n",
        "> - researchers use it to determine the rejection region for the null hypothesis\n",
        "> - When the test result goes beyond this threshold, the null hypothesis is rejected\n",
        "> - if the test result falls within the threshold, the null hypothesis is retained\n",
        "> - it helps control the risk of making a Type I error (rejecting a true null hypothesis)\n",
        "> - by fixing a significance level, decisions become objective rather than based on personal opinion.\n",
        "> - clear significance criteria ensure reliable and consistent conclusions about the population.\n",
        "\n",
        "> Conclusion:\n",
        "\n",
        ">  The significance level is important in hypothesis testing because it helps decide whether to reject or keep the null hypothesis. It sets a clear cut-off point for making decisions. By controlling the risk of errors, it ensures decisions are fair and reliable. Overall, it helps researchers draw correct conclusions from sample data."
      ],
      "metadata": {
        "id": "7kOtURFgRCPr"
      }
    },
    {
      "cell_type": "markdown",
      "source": [
        "**4. What are Type I and Type II errors? Give examples of each ?**\n",
        "\n",
        "> In hypothesis testing, an error occurs when a wrong decision is made about the null hypothesis based on sample data. It happens when the conclusion does not match the true state of the population. There are two types of errors: Type I error and Type II error.\n",
        "\n",
        "> 1. Type I Error:\n",
        ">     - it occurs when the null hypothesis is true, but we incorrectly reject it\n",
        ">     - it is also called a false positive\n",
        ">     - probability of type I error = significan level\n",
        ">     - example: a medical test says a healthy person has a disease\n",
        "\n",
        "> 2. Type II Error:\n",
        ">     - it occurs when the null hypothesis is false, but we fail to reject it\n",
        ">     - It is also called as a false negative\n",
        ">     - probability of making a type II error is denoted by beta\n",
        ">     - example: a medical test say a sick person is healthy\n",
        "\n",
        "> Example Of Type I Error:\n",
        "\n",
        ">> Suppose a pharmaceutical company develops a new drug that is claimed to cure a particular disease. To test the drug, researchers set up a clinical trial with patients and use hypothesis testing:\n",
        "\n",
        "> - Null Hypothesis: The drub has no effect on diseases\n",
        "> - Alternativve Hypothesis: The drug does not have an effect\n",
        "\n",
        ">> During the trial, the statistical analysis of sample data shows that patients taking the drug improve significantly. Based on this, the researchers reject the null hypothesis and conclude that the drug works.\n",
        "\n",
        ">> However, in reality, the drug does not actually work—the observed improvement happened purely due to measurement error. Here, the null hypothesis was true, but it was incorrectly rejected. This is a Type I error.\n",
        "\n",
        "> Example Of Type II Error:\n",
        "\n",
        ">>  Suppose a medical research team develops a new drug that is claimed to cure a serious disease. They conduct a clinical trial to test its effectiveness:\n",
        "\n",
        "> - Null hypothesis: The drug has no effect on the disease\n",
        "> - Alternative hypothesis: The drug does have an effect\n",
        "\n",
        ">> During the trial, the statistical analysis shows that the improvement in patients taking the drug is not statistically significant. Based on this, the researchers fail to reject the null hypothesis and conclude that the drug does not work.\n",
        "\n",
        ">> In reality, the drug actually does work—it is effective, but the sample data did not show strong enough evidence due to a small sample size, measurement errors. Here, the null hypothesis was false, but it was not rejected, which is a Type II error.\n",
        "\n",
        "> Conclusion:\n",
        "\n",
        ">> Type I and Type II errors are mistakes that can happen in hypothesis testing. A Type I error occurs when we reject a true null hypothesis, while a Type II error happens when we fail to reject a false null hypothesis. Understanding these errors helps researchers make better decisions, control risks, and draw reliable conclusions from sample data."
      ],
      "metadata": {
        "id": "lYi2H2YjWJ-p"
      }
    },
    {
      "cell_type": "markdown",
      "source": [
        "**5. What is the difference between a Z-test and a T-test? Explain when to use\n",
        "each ?**\n",
        "\n",
        "> Z-test and T-test are statistical methods used to compare means and test hypothesis. A Z-test is used when the population standard deviation is known and the sample size is large, while a T-test is used when the population standard deviation is unknown or the sample size is small.\n",
        "\n",
        "> Z-Test:\n",
        "> - the Z-test is used when the population standard deviation is known\n",
        "> - it is applicable when the sample size is large (n ≥ 30)\n",
        "> - it follows a standard normal distribution\n",
        "> - Example: testing whether the average height of students in a large university is equal to 150 cm, when the population standard deviation is known.\n",
        "\n",
        "> T-Test:\n",
        "> - T-test is used when the population standard deviation is unknown.\n",
        "> - when the sample size is small (n < 30)\n",
        "> - when population standard deviation is unknown\n",
        "> - we use the sample standard deviagtion (s) instead\n",
        "> - the test statistics follow t-distribution\n",
        "> - it has hevier tails and depends on degree of freedom\n",
        "\n",
        "> When To Use:\n",
        "> - Use Z-test when the population standard deviation is known and have a large sample (n >= 30)\n",
        "> - Use T-test when the population standard deviation is unknown or the sample size is small (n < 30)\n",
        "\n",
        "> Conclusion:\n",
        ">> both the Z-test and T-test are useful tools in hypothesis testing. The choice between them depends mainly on the sample size and whether the population standard deviation is known. By using the correct test, researchers can make accurate and confident decisions from data."
      ],
      "metadata": {
        "id": "b1TrLBrbgFLq"
      }
    },
    {
      "cell_type": "code",
      "source": [
        "#6. Write a Python program to generate a binomial distribution with n=10 and\n",
        "# p=0.5, then plot its histogram ?\n",
        "\n",
        "import numpy as np\n",
        "import matplotlib.pyplot as plt\n",
        "\n",
        "n = 10\n",
        "p = 0.5\n",
        "size = 1000\n",
        "\n",
        "#binomial distribution\n",
        "data = np.random.binomial(n, p, size)\n",
        "\n",
        "# Plot histogram\n",
        "plt.hist(data, bins=range(0, n+2), edgecolor='black', alpha=0.7)\n",
        "plt.title(\"Binomial Distribution\")\n",
        "plt.xlabel(\"Number of Successes\")\n",
        "plt.ylabel(\"Frequency\")\n",
        "plt.show()\n",
        "\n"
      ],
      "metadata": {
        "colab": {
          "base_uri": "https://localhost:8080/",
          "height": 472
        },
        "id": "nZwpaVe34Bxs",
        "outputId": "cbb1c2c0-3bd4-4043-e456-d563d6542fc1"
      },
      "execution_count": null,
      "outputs": [
        {
          "output_type": "display_data",
          "data": {
            "text/plain": [
              "<Figure size 640x480 with 1 Axes>"
            ],
            "image/png": "[encoded data removed]"
          },
          "metadata": {}
        }
      ]
    },
    {
      "cell_type": "code",
      "source": [
        "#7. Implement hypothesis testing using Z-statistics for a sample dataset in\n",
        "#Python. Show the Python code and interpret the results.\n",
        "\n",
        "\n",
        "import numpy as np\n",
        "from scipy.stats import norm\n",
        "\n",
        "sample_data = [49.1, 50.2, 51.0, 48.7, 50.5, 49.8, 50.3, 50.7, 50.2, 49.6,\n",
        "               50.1, 49.9, 50.8, 50.4, 48.9, 50.6, 50.0, 49.7, 50.2, 49.5,\n",
        "               50.1, 50.3, 50.4, 50.5, 50.0, 50.7, 49.3, 49.8, 50.2, 50.9,\n",
        "               50.3, 50.4, 50.0, 49.7, 50.5, 49.9]\n",
        "\n",
        "mu = 50\n",
        "alpha = 0.05\n",
        "\n",
        "#statistics samples\n",
        "sample_mean = np.mean(sample_data)\n",
        "sample_std = np.std(sample_data, ddof=1)\n",
        "n = len(sample_data)\n",
        "\n",
        "#standard error\n",
        "se = sample_std / np.sqrt(n)\n",
        "\n",
        "# z-statistic\n",
        "z_stat = (sample_mean - mu) / se\n",
        "\n",
        "#calculate z critical\n",
        "z_critical = norm.ppf(1 - alpha/2)\n",
        "\n",
        "print(\"Sample Mean:\", round(sample_mean, 2))\n",
        "print(\"Sample Std Dev:\", round(sample_std, 2))\n",
        "print(\"Z-statistic:\", round(z_stat, 2))\n",
        "print(\"Z critical:\", round(z_critical, 2))\n",
        "\n",
        "# last step\n",
        "if abs(z_stat) > z_critical:\n",
        "    print(\"reject the null hypothesis\")\n",
        "else:\n",
        "    print(\"fail to reject the null hypothesis\")\n"
      ],
      "metadata": {
        "id": "gV5LQXmv8Ra3",
        "colab": {
          "base_uri": "https://localhost:8080/"
        },
        "outputId": "c3e822f2-5799-4e23-875c-9b5834fd14f1"
      },
      "execution_count": null,
      "outputs": [
        {
          "output_type": "stream",
          "name": "stdout",
          "text": [
            "Sample Mean: 50.09\n",
            "Sample Std Dev: 0.54\n",
            "Z-statistic: 0.99\n",
            "Z critical: 1.96\n",
            "fail to reject the null hypothesis\n"
          ]
        }
      ]
    },
    {
      "cell_type": "code",
      "source": [
        "#8. Write a Python script to simulate data from a normal distribution and\n",
        "#   calculate the 95% confidence interval for its mean. Plot the data using Matplotlib.\n",
        "\n",
        "import numpy as np\n",
        "import matplotlib.pyplot as plt\n",
        "from scipy.stats import norm\n",
        "\n",
        "np.random.seed(42)\n",
        "mu = 50\n",
        "sigma = 5\n",
        "n = 100\n",
        "data = np.random.normal(mu, sigma, n)\n",
        "\n",
        "sample_mean = np.mean(data)\n",
        "sample_std = np.std(data, ddof=1)\n",
        "se = sample_std / np.sqrt(n)\n",
        "\n",
        "confidence = 0.95\n",
        "df = n - 1"
      ],
      "metadata": {
        "id": "69qNx987kmOA"
      },
      "execution_count": null,
      "outputs": []
    },
    {
      "cell_type": "code",
      "source": [
        "#9. Write a Python function to calculate the Z-scores from a dataset and\n",
        "#  visualize the standardized data using a histogram. Explain what the Z-scores represent\n",
        "#  in terms of standard deviations from the mean ?\n",
        "\n",
        "import numpy as np\n",
        "import matplotlib.pyplot as plt\n",
        "\n",
        "def calculate_z_scores(data):\n",
        "    mean = np.mean(data)\n",
        "    std_dev = np.std(data, ddof=1)  # sample standard deviation\n",
        "    z_scores = [(x - mean) / std_dev for x in data]\n",
        "    return z_scores\n",
        "\n",
        "data = [4, 8, 10, 11, 13, 15, 18, 21, 25, 30, 32, 37, 48, 49]\n",
        "\n",
        "#calculate Z-score\n",
        "z_scores = calculate_z_scores(data)\n",
        "\n",
        "print(\"orginal Data:\", data)\n",
        "print(\"Z-scores:\", np.round(z_scores, 3))\n",
        "\n",
        "#plot histogram of Z-score\n",
        "plt.figure(figsize=(8,5))\n",
        "plt.hist(z_scores, bins=8, color='blue', edgecolor='black', alpha=0.7)\n",
        "plt.title(\"Histogram of Z-scores (Standardized Data)\")\n",
        "plt.xlabel(\"Z-score\")\n",
        "plt.ylabel(\"Frequency\")\n",
        "plt.show()"
      ],
      "metadata": {
        "id": "UVu-zLx1lMjH",
        "colab": {
          "base_uri": "https://localhost:8080/",
          "height": 539
        },
        "outputId": "db3d848d-12bc-4e9b-9bf7-a49586691c2c"
      },
      "execution_count": 8,
      "outputs": [
        {
          "output_type": "stream",
          "name": "stdout",
          "text": [
            "orginal Data: [4, 8, 10, 11, 13, 15, 18, 21, 25, 30, 32, 37, 48, 49]\n",
            "Z-scores: [-1.308 -1.032 -0.893 -0.824 -0.686 -0.548 -0.341 -0.133  0.143  0.489\n",
            "  0.627  0.972  1.732  1.801]\n"
          ]
        },
        {
          "output_type": "display_data",
          "data": {
            "text/plain": [
              "<Figure size 800x500 with 1 Axes>"
            ],
            "image/png": "[encoded data removed]"
          },
          "metadata": {}
        }
      ]
    }
  ]
}